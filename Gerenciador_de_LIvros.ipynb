{
  "nbformat": 4,
  "nbformat_minor": 0,
  "metadata": {
    "colab": {
      "provenance": [],
      "authorship_tag": "ABX9TyP8aE3xcZ7grXQTPeJMnPS7",
      "include_colab_link": true
    },
    "kernelspec": {
      "name": "python3",
      "display_name": "Python 3"
    },
    "language_info": {
      "name": "python"
    }
  },
  "cells": [
    {
      "cell_type": "markdown",
      "metadata": {
        "id": "view-in-github",
        "colab_type": "text"
      },
      "source": [
        "<a href=\"https://colab.research.google.com/github/IvanLucas-Pkk/ProgrammingExercises/blob/main/Gerenciador_de_LIvros.ipynb\" target=\"_parent\"><img src=\"https://colab.research.google.com/assets/colab-badge.svg\" alt=\"Open In Colab\"/></a>"
      ]
    },
    {
      "cell_type": "code",
      "execution_count": null,
      "metadata": {
        "id": "x98EvU3fE8QT",
        "colab": {
          "base_uri": "https://localhost:8080/",
          "height": 708
        },
        "outputId": "1c93204f-8c8b-4840-d296-73e2dabbf332"
      },
      "outputs": [
        {
          "name": "stdout",
          "output_type": "stream",
          "text": [
            "Qual o titulo do livro?primeiro\n",
            "Qual o nome do autor?ivan\n",
            "Qual o gênero do livro?\n",
            "(Terror, Fantasia, Aventura, Suspense, Comédia ou Romance)comédia\n",
            "Qual o titulo do livro?segundo\n",
            "Qual o nome do autor?bruna\n",
            "Qual o gênero do livro?\n",
            "(Terror, Fantasia, Aventura, Suspense, Comédia ou Romance)suspense\n",
            "Qual o titulo do livro?terceiro\n",
            "Qual o nome do autor?patricia\n",
            "Qual o gênero do livro?\n",
            "(Terror, Fantasia, Aventura, Suspense, Comédia ou Romance)comédia\n",
            "Qual o titulo do livro?quarto\n",
            "Qual o nome do autor?lucas\n",
            "Qual o gênero do livro?\n",
            "(Terror, Fantasia, Aventura, Suspense, Comédia ou Romance)terror\n"
          ]
        },
        {
          "output_type": "display_data",
          "data": {
            "text/plain": [
              "<Figure size 640x480 with 1 Axes>"
            ],
            "image/png": "[encoded data removed]"
          },
          "metadata": {}
        }
      ],
      "source": [
        "import matplotlib.pyplot as plt\n",
        "\n",
        "\n",
        "class Livro:\n",
        "  def __init__(self, titulo, autor, genero):\n",
        "    self.titulo = titulo\n",
        "    self.autor = autor\n",
        "    self.genero = genero\n",
        "\n",
        "lista_de_livros = []\n",
        "lista_de_generos = [\"TERROR\", \"FANTASIA\", \"AVENTURA\", \"SUSPENSE\", \"COMÉDIA\", \"ROMANCE\"]\n",
        "lista_qtd_generos = [0, 0, 0, 0, 0, 0] #para contar os generos disponíveis na lista de livros\n",
        "\n",
        "#adiciona os livros na lista de livros\n",
        "def cadastrarLivro():\n",
        "  flag = True\n",
        "  titulo = input('Qual o titulo do livro?')\n",
        "  autor = input('Qual o nome do autor?')\n",
        "  #somente os gêneros definidos são permitidos\n",
        "  while flag:\n",
        "    genero = input('Qual o gênero do livro?\\n(Terror, Fantasia, Aventura, Suspense, Comédia ou Romance)')\n",
        "    for g in lista_de_generos:\n",
        "      if genero.upper() == g:\n",
        "        flag = False\n",
        "        break\n",
        "  livro = Livro(titulo, autor, genero)\n",
        "  lista_de_livros.append(livro)\n",
        "\n",
        "#mostra os livros na lista\n",
        "def listarLivros():\n",
        "  for livro in lista_de_livros:\n",
        "    print(f' Titulo: {livro.titulo} \\n Autor: {livro.autor} \\n Gênero: {livro.genero} \\n')\n",
        "\n",
        "#busca um livro pelo titulo\n",
        "def buscarLivros(titulo_do_livro):\n",
        "  for livro in lista_de_livros:\n",
        "    if livro.titulo == titulo_do_livro:\n",
        "      print(f' Titulo: {livro.titulo} \\n Autor: {livro.autor} \\n Gênero: {livro.genero} \\n')\n",
        "\n",
        "\n",
        "#conta os gêneros cadastrados na lista\n",
        "def contarGeneros():\n",
        "  for livro in lista_de_livros:\n",
        "    if livro.genero.upper() == \"TERROR\":\n",
        "      lista_qtd_generos[0] += 1\n",
        "    elif livro.genero.upper() == \"FANTASIA\":\n",
        "      lista_qtd_generos[1] += 1\n",
        "    elif livro.genero.upper() == \"AVENTURA\":\n",
        "      lista_qtd_generos[2] += 1\n",
        "    elif livro.genero.upper() == \"SUSPENSE\":\n",
        "      lista_qtd_generos[3] += 1\n",
        "    elif livro.genero.upper() == \"COMÉDIA\":\n",
        "      lista_qtd_generos[4] += 1\n",
        "    elif livro.genero.upper() == \"ROMANCE\":\n",
        "      lista_qtd_generos[5] += 1\n",
        "\n",
        "#relaciona os generos com as quantidades para gerar um gráfico de barras\n",
        "def gerarGrafico():\n",
        "  contarGeneros()\n",
        "  plt.bar(lista_de_generos, lista_qtd_generos, color=\"royalblue\")\n",
        "  plt.show()\n",
        "\n",
        "#testando algumas funções\n",
        "cadastrarLivro()\n",
        "cadastrarLivro()\n",
        "cadastrarLivro()\n",
        "cadastrarLivro()\n",
        "gerarGrafico()\n",
        "\n"
      ]
    }
  ]
}