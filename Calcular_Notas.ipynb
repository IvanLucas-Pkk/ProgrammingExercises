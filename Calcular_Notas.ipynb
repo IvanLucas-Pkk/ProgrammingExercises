{
  "nbformat": 4,
  "nbformat_minor": 0,
  "metadata": {
    "colab": {
      "provenance": [],
      "authorship_tag": "ABX9TyOBqQ+yZ9VwYUqm0heW8EwV",
      "include_colab_link": true
    },
    "kernelspec": {
      "name": "python3",
      "display_name": "Python 3"
    },
    "language_info": {
      "name": "python"
    }
  },
  "cells": [
    {
      "cell_type": "markdown",
      "metadata": {
        "id": "view-in-github",
        "colab_type": "text"
      },
      "source": [
        "<a href=\"https://colab.research.google.com/github/IvanLucas-Pkk/ProgrammingExercises/blob/main/Calcular_Notas.ipynb\" target=\"_parent\"><img src=\"https://colab.research.google.com/assets/colab-badge.svg\" alt=\"Open In Colab\"/></a>"
      ]
    },
    {
      "cell_type": "code",
      "execution_count": 14,
      "metadata": {
        "colab": {
          "base_uri": "https://localhost:8080/"
        },
        "id": "sr9mo649HpHH",
        "outputId": "bf935a68-2294-49e1-b582-7a483392a880"
      },
      "outputs": [
        {
          "output_type": "stream",
          "name": "stdout",
          "text": [
            "Digite o nome do aluno:Ivan\n",
            "Digite a 1º nota:12\n",
            "A nota precisa ser um número de 0 á 10....\n",
            "Digite a 1º nota:10\n",
            "Digite a 2º nota:10\n",
            "Digite a 3º nota:10\n",
            "Digite a 4º nota:10\n",
            "Digite a 5º nota:10\n",
            "Nome: Ivan\n",
            " Notas: [10, 10, 10, 10, 10]\n",
            " Media: 10.0\n",
            " Situação: Aprovado!!!\n"
          ]
        }
      ],
      "source": [
        "#função para cadastrar as notas\n",
        "def cadastro_notas():\n",
        "  lista_notas = [];\n",
        "  contador = 1\n",
        "  qtd_de_notas = 5\n",
        "  nota_maxima = 10\n",
        "  nota_minima = 0\n",
        "\n",
        "  while contador <= qtd_de_notas:\n",
        "    temp = input(f'Digite a {contador}º nota:')\n",
        "    #a nota precisa ser um numero\n",
        "    try:\n",
        "      temp = int(temp)\n",
        "    except ValueError:\n",
        "      print('A nota precisa ser um número.....')\n",
        "      continue\n",
        "    #a nota não pode ser maior que 10 e nem menor que 0\n",
        "    if (temp > nota_maxima) or (temp < nota_minima):\n",
        "      print('A nota precisa ser um número de 0 á 10....')\n",
        "      continue\n",
        "    lista_notas.append(temp)\n",
        "    contador += 1\n",
        "  return lista_notas\n",
        "\n",
        "#função para calcular media\n",
        "def calcular_media(lista_notas):\n",
        "  total = 0\n",
        "  media = 0\n",
        "  for nota in lista_notas:\n",
        "    total += nota\n",
        "  media = total / len(lista_notas)\n",
        "  return media\n",
        "\n",
        "#determina se o aluno passou ou não\n",
        "def determinar(media):\n",
        "  if media >= 7:\n",
        "    return \"Aprovado!!!\"\n",
        "  else:\n",
        "    return \"Reprovado!!!\"\n",
        "\n",
        "nome = input('Digite o nome do aluno:')\n",
        "notas = cadastro_notas()\n",
        "media = calcular_media(notas)\n",
        "situacao = determinar(media)\n",
        "print(f'Nome: {nome}\\n Notas: {notas}\\n Media: {media}\\n Situação: {situacao}')\n",
        "\n",
        "\n",
        "\n",
        "\n"
      ]
    }
  ]
}